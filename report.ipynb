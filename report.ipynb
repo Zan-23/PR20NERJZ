{
 "cells": [
  {
   "cell_type": "markdown",
   "metadata": {},
   "source": [
    "# Primerjava Covid 19 z gripo, vpliv ukrepov, vpliv povprečne starosti populacije države na smrtnost !"
   ]
  },
  {
   "cell_type": "markdown",
   "metadata": {},
   "source": [
    "## Avtorji\n",
    "- Nikolaj Popovič\n",
    "- Enej Bačič\n",
    "- Rok Šimic\n",
    "- Jaka Rizmal\n",
    "- Žan Stanonik"
   ]
  },
  {
   "cell_type": "markdown",
   "metadata": {},
   "source": [
    "## Podatki"
   ]
  },
  {
   "cell_type": "markdown",
   "metadata": {},
   "source": [
    "S pridobivanjem podatkov smo imeli dosti problemov saj smo jih razen par izjem zelo težko dobili. Problem je bil tudi da podatki o smrtih za leto 2020 še niso nikjer objavljeni in smo naleti na samo na podatke za posamezne regije države ki so bile zelo slabo predstavljene zato smo se odločili, da jih ne bomo uporabili v analizi.  \n",
    "\n",
    "Koda za spodnje grafe je v /notebooks/base_report.ipynb"
   ]
  },
  {
   "cell_type": "markdown",
   "metadata": {},
   "source": [
    "**Podatki in viri**\n",
    "- corona_latest.csv - Vsebuje podatke o okužbah, smrtih itd. z korona virusom. [link]()  \n",
    "- corona_worldwide.csv - Vsebuje podatke o okužbah, smrtih itd. z korona virusom. [link](https://data.europa.eu/euodp/en/data/dataset/covid-19-coronavirus-data) \n",
    "- countries.geo.json -  Geo json uporabljen za izris zemljevida sveta. [link](https://raw.githubusercontent.com/johan/world.geo.json/master/countries.geo.json)\n",
    "- US_gripa.csv - Podatki o gripi v Ameriki. [link]( https://healthdata.gov/dataset/deaths-pneumonia-and-influenza-pi-and-all-deaths-state-and-region-national-center-health-0#) \n",
    "- EU_gripa.csv - Podatki o gripi v Evropi. [link](https://gateway.euro.who.int/en/indicators/hfamdb_405-deaths-influenza/) \n",
    "- POPULATION_BY_AGE_BOTH_SEXES.xlsx - Podatki o populaciji in starostnih skupinah vseh držav. [link](https://population.un.org/wpp/Download/Standard/Population/) \n",
    "- total_population_by_sex.csv - [link]() \n",
    "- unData_deaths_per_month.txt - Podatki o smrtih za države, dosti podatkov manka in nimajo konsistentih vrednosti. [link](http://data.un.org/Data.aspx?q=deaths&d=POP&f=tableCode%3a65) \n",
    "- slovenia.xlsx - Podatki ki smo jih zbrali sami s pomočjo interneta in novic.\n",
    "- united kingdom.xlsx - Podatki ki smo jih zbrali sami s pomočjo interneta in novic."
   ]
  },
  {
   "cell_type": "markdown",
   "metadata": {},
   "source": [
    "Podatke smo pridobili z različnih virov kot so WHO, UN, Data.Europe in še par drugih stranih. \n",
    " "
   ]
  },
  {
   "cell_type": "markdown",
   "metadata": {},
   "source": [
    "## Prikaz populacije, povprečne starosti in umrlih v državi"
   ]
  },
  {
   "cell_type": "markdown",
   "metadata": {},
   "source": [
    "Odločili smo se da za prikaz teh podatkov naredimo interaktivni zemljevid ki ga najdete v datoteki base_report.  \n",
    "\n",
    "Namen tega zemljevida je ozaveščanje o populaciji, povprečni starost in smrtnosti v državi ki jo izberemo tako da kliknemo nanjo. Na voljo je tudi slider, ki nam prikaže podatke točno za določeno leto in gumb, ki če je pritisnjen prikaže graf porazdelitve prebivalstva in graf smrtnosti čez leto.  \n",
    "  \n",
    "S igranjem po vizualizaciji kmalu ugotovimo da imajo afriške države zelo mlade populacije ter da občutno več ljudi umre pozimi to pa je še bolj vidno če izberemo npr. Nemčijo(severna polobla) in Čile(južna polobla) za leto 2015 vidimo, da v Čilu umre največ ljudi med junijem in septembrom v Nemčijo pa med decembrom in marcem to pa se pokriva z zimami.   \n",
    "  \n",
    "Tako lahko tudi potegnemo zaključke da bo to poletje na južni polobli bolj hudo zaradi korona virusa saj že na sploh več ljudi umre pozimi, z novim virusom pa jih bo še toliko več. Prav tako lahko pričakujemo, da nas bo v zimskih mesecih dolotel nov val poleti pa ne bi smeli imeti problemov.\n",
    "  \n",
    "Nekatere ljudi pa preseneti tudi število umrlih vsako leto npr. v Čilu je leta 2015 umrlo 103 tisoč ljudi."
   ]
  },
  {
   "cell_type": "markdown",
   "metadata": {},
   "source": [
    "![](slike/intr_map1.png)\n",
    "![](slike/intr_map2.png)"
   ]
  },
  {
   "cell_type": "markdown",
   "metadata": {},
   "source": [
    "## Covid-19 v povezavi z zemljevidom in primerjava med državami\n",
    "\n",
    "Graf za Covid-19 je narejen od prvega dne, ko se je virus pojavil v določeni državi. Prikazoval naj bi hitrost širjenja virusa in s tem tudi število posledično umrlih ljudi. Prav tako bi se ob izbiri države morali prikazati ukrepi, ki jih je država sprejela za preprečitev širjenja virusa, vendar nam je to uspelo narediti le za 2 državi (Slovenijo ter VB) zaradi težavnosti pri iskanju podatkov - vse podakte bi morali prepisati ročno.\n",
    "\n",
    "\n",
    "Za prikaz širjenja Covid-19 je napisana tudi funkcija __compare(država1, država2, query)__ -> _query = {\"cases\", \"deaths\"}._\n",
    "\n",
    "S njo lahko prikažemo ter primerjamo dve državi po hitrosti naraščanja primerov oz. smrti (to izberemo v \"query\"). Zaradi izredne velike razlike med nekaterimi državami, je graf lahko v nekaterih primer precej nerazviden, ampak je zato v državah s približnim enakim rastom/številom ker všečen.  \n",
    "  \n",
    "`compare(virus_array, \"slovenia\", \"croatia\", \"cases\")`\n",
    "![](slike/compare.png)"
   ]
  },
  {
   "cell_type": "markdown",
   "metadata": {},
   "source": [
    "## Primerjava rasti COVID okužb po državah z gručenjem\n",
    "\n",
    "Podatke smo si pripravili tako da imamo slovar kjer je za vsaka državo za vsak teden od začetka beleženja Covid-19 število okuženih in mrtvih. Če bi gručili po teh podatkih, bi populacija države igrala veliko vlogo. Ker pa tega nočemo (primerjamo le rast), se v naslednjem koraku za vsak teden izračuna razmerje naslednji/prejšnji teden. S tem dobimo za vsak teden nek koeficient, ki prikazuje rast števila okuženih oziroma mrtvih. Ko gručimo na ta način, populacija ne igra vloge.\n",
    "\n",
    "`weeklyCoefficientsDict = jaka.createWeeklyCoefficientsDict(weeklyStatsDict)\n",
    "(caseMatrix, deathMatrix, labels) = jaka.createMatricesAndLabels(weeklyCoefficientsDict, 100)\n",
    "caseLinkage = jaka.createLinkage(caseMatrix)\n",
    "deathLinkage = jaka.createLinkage(deathMatrix)\n",
    "jaka.drawDendrogram(deathLinkage, labels, title=\"Države, gručene po tedenskem koeficientu rasti smrti\")`\n",
    "![](slike/week_koef.png)\n",
    "\n",
    "Za prikaz podatkov smo izbrali dendrogram, saj po našem mnenju lepo grafično prikazuje rezultate. Na grafu vidimo, katere države so si podobne glede na to, kakšna je bila rast števila mrtvih za Covid-19.\n",
    "\n",
    "## Linearna regresija med povprečno starostjo in številom umrlih \n",
    "\n",
    "S pomočjo linearne regresije smo prikazali koeficient smrt zaradi korone glede na starost populacije. \n",
    "Uporabili smo podatke za povprečno starost populacije. Zaradi želje po lepšem izgledu grafa smo uporabili koeficient za število smrti. Iz dane regresije je razbrati, da so starejši bolj podvrženi smrtim zaradi korone. To se vidi tudi iz raznih podatkov posameznih držav, saj je večinoma umrlih starejših tako da države z starejšimi populaciji lahko pričakujejo da jih bo korona bolj prizadela kot nekatere z mlajšimi.\n",
    "\n",
    "![](slike/avg_deaths_mortality.png)"
   ]
  },
  {
   "cell_type": "markdown",
   "metadata": {},
   "source": [
    "# Gručenje po podatkih o starosti\n",
    "\n",
    "## Starostna distribucija\n",
    "Hierarhično gručenje na podatkovni množici, kjer iščemo podobnosti med starostnimi distribucijami med drzavami - gledamo katere države imajo podobno porazdeljeno starost prebivalcev v letu 2020.   \n",
    "**Črna**: Prebivalci drzac ZAE, OMAN, Maldivi ,Qatar , Bahrain -> Glede na znana dejstva smiselen izbor vsaj za strukturo starosti, socialno ekonomske razmire, tip gospodarstva, kulturo.Pričakuje se malo smrti.   \n",
    "**Rumena**: Belize, Cambodia, South africa, South sudan kulturno podbne države, po večini afrika in otoki.   \n",
    "**Vijolična**: Otočja, države latinske amerike, nekaj držav področja bivšega bizanca.   \n",
    "**Svetlomodra**: Po večini predstavniki afrike, kar je smiselno glede na to, da je starostna porazdelitev na afriski celini precej, drugačna kakor npr. v evropi saj je življenski standard precej nizji, posledicno ljudje umirajo zaradi v drugim celinam trivialnih bolezni, tudi sociološki standardi se na tej točki odcepijo od črne skupine zato vrjento tudi zaznana drugačna starostna sestava.Pričakuje se manj smrti zaradi precejšne razseljenosti prebivalstva in nizkih standardov, pa tudi nekaj več zaradi slabe zdravstvene oskrbe.   \n",
    "**Zelena**: Povečini države razvitejšega sveta(Evropske), nekaj otočja, Azije po večini države razvitejšega sveta, kjer je zaradi višjega razvoja civilizacije pričakovana starost višja. Najpogostejše žrtve COVID-19 ponavadi presegajo 70 let, teh je na tem območju več kakor v afriki in zato je pričakovana višja smrtnost.    \n",
    "**OSAMELI SKUPINI**: RDEČA: Gabon, Madagaskar TEMNOMIDRA: Vključuje združeno kraljestvo, ki se očitno strukturno razlikuje od večine članic EU.\n",
    "\n",
    "`nmatrixNP,labelsNP = nicx.PripravaZaClusteing(main_setNP)\n",
    "nicx.Clutr(nmatrixNP,labelsNP)`\n",
    "![](slike/mortality_cluster.png)\n",
    "\n",
    "## Mesečna umrljivost v letu 2015\n",
    "\n",
    "Graf prikazuje, katere države si si med sabo najbolj podobne po stopnji mesečne umrljivosti skozi leto 2015. Iz podatkov lahko vidimo, da imajo države s podobno geografsko pozicijo podobne stopnje smrtnosti. V glavnem je model razdelil države na 2 večji skupini. Kar opazimo je to, da je v zeleni več držav nižje razvitosti. (ne vse, ampak več kot v rdeči)\n",
    "\n",
    "`jaka.drawDendrogram(mortalityLinkage, labels, title=\"Države, gručene po mesečni umrljivosti leta 2015\")`\n",
    "![](slike/mortality_2015_cluster.png)"
   ]
  },
  {
   "cell_type": "markdown",
   "metadata": {},
   "source": [
    "## Primerjava Covid-19 z gripo in plučnico\n",
    "\n",
    "Spodnji graf prikazuje število umrlih v ZDA vsako leto zaradi gripe.\n",
    "![](slike/deaths_america.png)\n",
    "\n",
    "Na tem grafu pa lahko vidimo koliko ljudi je umrlo zaradi pljučnice.\n",
    "![](slike/pneumonia_deaths.png)\n",
    "\n",
    "Primerjava smrti za novim COVID-19 v preteklem letu in smrtimi zaradi gripe po letih.   \n",
    "Ugotovitev: Za covid je v 1 izmed let umrlo 2x toliko, ljudi kakor za gripo v najslabsem izmed let(epidemija gripe).\n",
    "![](slike/corona_flue.png?raw=true)\n",
    "\n",
    "\n",
    "### Smrtnost\n",
    "`nicx.printaj(TOTAL_DNP,TOTAL_CNP)`  \n",
    "Skupna smrtnost po vseh drzavah: 6.7310266724359895%\n",
    "\n",
    "\n",
    "# Države ki so bile uspešne/neuspešne v boju z Covid-19\n",
    "Kako se je država odrezala smo zaključili na podlagi p-vrednosti.\n",
    "\n",
    "### Najbolj uspešne države - COVID-19\n",
    "`nicx.Dobre(smrtnostNP,nNP,muNP,sigma2NP)`\n",
    "Anguilla  \n",
    "Bahrain  \n",
    "Belarus   \n",
    "Benin  \n",
    "Bhutan  \n",
    "Bonaire, Saint Eustatius and Saba  \n",
    "Brunei_Darussalam  \n",
    "Cambodia  \n",
    "Central_African_Republic  \n",
    "Djibouti  \n",
    "Dominica   \n",
    "Eritrea  \n",
    "Falkland_Islands_(Malvinas)  \n",
    "Faroe_Islands  \n",
    "Fiji  \n",
    "French_Polynesia  \n",
    "Gabon  \n",
    "Ghana  \n",
    "Gibraltar  \n",
    "Greenland  \n",
    "Grenada  \n",
    "Guinea  \n",
    "Guinea_Bissau  \n",
    "Holy_See  \n",
    "Iceland  \n",
    "Kazakhstan  \n",
    "Kuwait  \n",
    "Laos  \n",
    "Lesotho  \n",
    "Madagascar  \n",
    "Maldives  \n",
    "Mongolia  \n",
    "Mozambique  \n",
    "Namibia  \n",
    "Nepal  \n",
    "New_Caledonia  \n",
    "Oman  \n",
    "Palestine  \n",
    "Papua_New_Guinea  \n",
    "Qatar  \n",
    "Rwanda  \n",
    "Saint_Kitts_and_Nevis  \n",
    "Saint_Lucia  \n",
    "Saint_Vincent_and_the_Grenadines  \n",
    "Saudi_Arabia  \n",
    "Seychelles  \n",
    "Singapore  \n",
    "Timor_Leste  \n",
    "Uganda  \n",
    "Uzbekistan  \n",
    "Vietnam  \n",
    "Western_Sahara  \n",
    "\n",
    "### Najmanj uspešne države - COVID-19\n",
    "`nicx.Slabe(smrtnostNP,nNP,muNP,sigma2NP)`\n",
    "Belgium  \n",
    "British_Virgin_Islands  \n",
    "France  \n",
    "Hungary  \n",
    "Italy  \n",
    "Netherlands  \n",
    "Nicaragua  \n",
    "Sint_Maarten  \n",
    "Sweden  \n",
    "United_Kingdom  \n",
    "Yemen  \n",
    "\n"
   ]
  },
  {
   "cell_type": "markdown",
   "metadata": {},
   "source": []
  }
 ],
 "metadata": {
  "kernelspec": {
   "display_name": "Python 3",
   "language": "python",
   "name": "python3"
  },
  "language_info": {
   "codemirror_mode": {
    "name": "ipython",
    "version": 3
   },
   "file_extension": ".py",
   "mimetype": "text/x-python",
   "name": "python",
   "nbconvert_exporter": "python",
   "pygments_lexer": "ipython3",
   "version": "3.7.7"
  }
 },
 "nbformat": 4,
 "nbformat_minor": 4
}
