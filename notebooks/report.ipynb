{
 "cells": [
  {
   "cell_type": "markdown",
   "metadata": {},
   "source": [
    "# Primerjava Covid 19 z gripo, vpliv ukrepov, vpliv povprečne starosti populacije države na smrtnost !"
   ]
  },
  {
   "cell_type": "code",
   "execution_count": 2,
   "metadata": {},
   "outputs": [
    {
     "ename": "NameError",
     "evalue": "name 'pop_by_sex' is not defined",
     "output_type": "error",
     "traceback": [
      "\u001b[1;31m---------------------------------------------------------------------------\u001b[0m",
      "\u001b[1;31mNameError\u001b[0m                                 Traceback (most recent call last)",
      "\u001b[1;32m<ipython-input-2-339fee4af0cd>\u001b[0m in \u001b[0;36m<module>\u001b[1;34m\u001b[0m\n\u001b[0;32m     20\u001b[0m \u001b[1;32mfrom\u001b[0m \u001b[0mzansModule\u001b[0m     \u001b[1;32mimport\u001b[0m \u001b[0mdraw_bar_chart_distribution\u001b[0m\u001b[1;33m,\u001b[0m \u001b[0mdraw_bar_chart_mortality\u001b[0m\u001b[1;33m,\u001b[0m \u001b[0mdeath_count_country_year\u001b[0m\u001b[1;33m,\u001b[0m \u001b[0mmonth_deaths\u001b[0m\u001b[1;33m\u001b[0m\u001b[1;33m\u001b[0m\u001b[0m\n\u001b[0;32m     21\u001b[0m \u001b[1;33m\u001b[0m\u001b[0m\n\u001b[1;32m---> 22\u001b[1;33m \u001b[1;32mfrom\u001b[0m \u001b[0menejBModule\u001b[0m    \u001b[1;32mimport\u001b[0m \u001b[0mtest_enej\u001b[0m\u001b[1;33m\u001b[0m\u001b[1;33m\u001b[0m\u001b[0m\n\u001b[0m\u001b[0;32m     23\u001b[0m \u001b[1;32mfrom\u001b[0m \u001b[0mjakaRModule\u001b[0m    \u001b[1;32mimport\u001b[0m \u001b[0mtest_jaka\u001b[0m\u001b[1;33m\u001b[0m\u001b[1;33m\u001b[0m\u001b[0m\n\u001b[0;32m     24\u001b[0m \u001b[1;32mfrom\u001b[0m \u001b[0mnikolajPModule\u001b[0m \u001b[1;32mimport\u001b[0m \u001b[0mtest_nikolaj\u001b[0m\u001b[1;33m\u001b[0m\u001b[1;33m\u001b[0m\u001b[0m\n",
      "\u001b[1;32m~\\Desktop\\PR20NERJZ\\notebooks/modules\\enejBModule.py\u001b[0m in \u001b[0;36m<module>\u001b[1;34m\u001b[0m\n\u001b[0;32m     55\u001b[0m     \u001b[0mplt\u001b[0m\u001b[1;33m.\u001b[0m\u001b[0mshow\u001b[0m\u001b[1;33m(\u001b[0m\u001b[1;33m)\u001b[0m\u001b[1;33m\u001b[0m\u001b[1;33m\u001b[0m\u001b[0m\n\u001b[0;32m     56\u001b[0m \u001b[1;33m\u001b[0m\u001b[0m\n\u001b[1;32m---> 57\u001b[1;33m \u001b[0mlinearna\u001b[0m\u001b[1;33m(\u001b[0m\u001b[0mpop_by_sex\u001b[0m\u001b[1;33m)\u001b[0m\u001b[1;33m\u001b[0m\u001b[1;33m\u001b[0m\u001b[0m\n\u001b[0m",
      "\u001b[1;31mNameError\u001b[0m: name 'pop_by_sex' is not defined"
     ]
    }
   ],
   "source": [
    "import pandas as pandas\n",
    "import os\n",
    "import sys\n",
    "import json\n",
    "import math\n",
    "import random\n",
    "import matplotlib\n",
    "import matplotlib.pyplot as plt\n",
    "from IPython.display import clear_output\n",
    "from ipywidgets      import Dropdown\n",
    "from bqplot          import Lines, Figure, LinearScale, DateScale, Axis\n",
    "from ipyleaflet      import Map, GeoJSON, WidgetControl\n",
    "from ipywidgets import IntSlider, ColorPicker, ToggleButton\n",
    "import numpy as np\n",
    "from collections import defaultdict\n",
    "from scipy.stats import multivariate_normal as mvn\n",
    "%matplotlib inline\n",
    "sys.path.append(os.getcwd() + '/modules')\n",
    "from zansModule     import read_population_by_sex, get_sum_population_array, my_round, get_age_distribution_array\n",
    "from zansModule     import draw_bar_chart_distribution, draw_bar_chart_mortality, death_count_country_year, month_deaths\n",
    "\n",
    "from enejBModule    import test_enej\n",
    "from jakaRModule    import test_jaka\n",
    "from nikolajPModule import test_nikolaj\n",
    "from rokSModule import drawPlot, compare, showCountermeasures\n",
    "\n",
    "# reading data from files\n",
    "with open('../podatki/countries.geo.json') as f:\n",
    "    countries_geo = json.load(f)\n",
    "pop_by_sex = read_population_by_sex()  \n",
    "\n",
    "reader = pandas.read_csv(\"../podatki/corona_worldwide.csv\")\n",
    "virus_array = reader.to_numpy()    #create array of data"
   ]
  },
  {
   "cell_type": "code",
   "execution_count": null,
   "metadata": {},
   "outputs": [],
   "source": [
    "def display_data_for_country(country_name, year, show_bool):\n",
    "    print(\"Država: \" + country_name + \"\\nLeto: \" + str(year))\n",
    "    pop_data_set = get_sum_population_array(pop_by_sex, country_name)\n",
    "    rounded_year = my_round(year)\n",
    "    \n",
    "    avg_age = float(pop_by_sex[(pop_by_sex['Region-Country'] == country_name) & (pop_by_sex[\"Date\"] == rounded_year)][\"avg_age\"])\n",
    "    this_year_pop = [i for i in pop_data_set if i[0] == rounded_year]\n",
    "    avg_deaths = month_deaths(death_count_country_year(country_name, year))\n",
    "    \n",
    "    if type(avg_deaths[0]) is float:\n",
    "        avg_deaths = int(avg_deaths[0]), int(avg_deaths[1])\n",
    "    \n",
    "    print(\"Populacija v tej državi leta {} je {:.2f} tisoč\".format(rounded_year, this_year_pop[0][1]))\n",
    "    print(\"Povprečna starost prebivalca v tej državi leta {} je bila {:.1f}\".format(rounded_year, avg_age))\n",
    "    print(\"V tej državi je vsak mesec leta {} umrlo povprečno {} ljudi. V celem letu pa {} ljudi\"\n",
    "          .format(year, str(avg_deaths[0]), str(avg_deaths[1])))\n",
    "    \n",
    "    if show_bool:\n",
    "        draw_bar_chart_distribution(get_age_distribution_array(pop_by_sex, country_name, rounded_year), country_name, rounded_year)\n",
    "        draw_bar_chart_mortality(year, year-1, country_name)"
   ]
  },
  {
   "cell_type": "markdown",
   "metadata": {},
   "source": [
    "## Interaktivni zemljevid, ki izpiše št. prebivalcev, povprečno starost prebivalcev, št. ljudi ki je v tej državi umrlo v danem letu ter kako je Covid-19 vplival nanjo"
   ]
  },
  {
   "cell_type": "code",
   "execution_count": null,
   "metadata": {},
   "outputs": [],
   "source": [
    "import time\n",
    "m = Map(zoom=3)\n",
    "\n",
    "geo = GeoJSON(data=countries_geo, style={'fillColor': 'white', 'weight': 0.5}, hover_style={'fillColor': '#1f77b4'}, name='Countries')\n",
    "\n",
    "year_slider = IntSlider(description='Year:', min=1980, max=2020, value=2018)\n",
    "slider_control = WidgetControl(widget=year_slider, position='topright')\n",
    "m.add_control(slider_control)\n",
    "\n",
    "show_graphs = ToggleButton(description='Show Graph')\n",
    "button_control = WidgetControl(widget=show_graphs, position='topright')\n",
    "m.add_control(button_control)\n",
    "\n",
    "def click_handle(event=None, feature=None, **kwargs): # must be none if nothing is given\n",
    "\n",
    "            year = year_slider.value\n",
    "            clear_output(True)\n",
    "        #\n",
    "            try:\n",
    "                display_data_for_country(kwargs['properties']['name'], year, show_graphs.value)\n",
    "                drawPlot(virus_array, kwargs['properties']['name'], \"both\")\n",
    "                showCountermeasures(kwargs['properties']['name'])\n",
    "                display(m)\n",
    "            except:\n",
    "                pass\n",
    "\n",
    "            \n",
    "geo.on_click(click_handle)\n",
    "m.add_layer(geo)\n",
    "display(m)"
   ]
  },
  {
   "cell_type": "markdown",
   "metadata": {},
   "source": [
    "Graf za Covid-19 je narejen od prvega dne, ko se je virus pojavil v določeni državi. Prikazoval naj bi hitrost širjenja virusa in s tem tudi število posledično umrlih ljudi. Prav tako bi se ob izbiri države morali prikazati ukrepi, ki jih je država sprejela za preprečitev širjenja virusa, vendar nam je to uspelo narediti le za 2 državi (Slovenijo ter VB) zaradi težavnosti pri iskanju podatkov - vse podakte bi morali prepisati ročno.\n",
    "\n",
    "\n",
    "Za prikaz širjenja Covid-19 je napisana tudi funkcija __compare(država1, država2, query)__ -> _query = {\"cases\", \"deaths\"}._\n",
    "\n",
    "S njo lahko prikažemo ter primerjamo dve državi po hitrosti naraščanja primerov oz. smrti (to izberemo v \"query\"). Zaradi izredne velike razlike med nekaterimi državami, je graf lahko v nekaterih primer precej nerazviden, ampak je zato v državah s približnim enakim rastom/številom ker všečen."
   ]
  },
  {
   "cell_type": "code",
   "execution_count": null,
   "metadata": {},
   "outputs": [],
   "source": [
    "compare(virus_array, \"slovenia\", \"croatia\", \"cases\")"
   ]
  },
  {
   "cell_type": "code",
   "execution_count": null,
   "metadata": {},
   "outputs": [],
   "source": [
    "\"\"\"\n",
    "BACKUP CODE - ŽAN\n",
    "\n",
    "m = Map(zoom=3)\n",
    "\n",
    "geo = GeoJSON(data=countries, style={'fillColor': 'white', 'weight': 0.5}, hover_style={'fillColor': '#1f77b4'}, name='Countries')\n",
    "\n",
    "year_slider = IntSlider(description='Year:', min=1980, max=2020, value=2018)\n",
    "slider_control = WidgetControl(widget=year_slider, position='topright')\n",
    "m.add_control(slider_control)\n",
    "\n",
    "show_graphs = ToggleButton(description='Show Graph')\n",
    "button_control = WidgetControl(widget=show_graphs, position='topright')\n",
    "m.add_control(button_control)\n",
    "\n",
    "def click_handle(event=None, feature=None, **kwargs): # must be none if nothing is given\n",
    "    if feature is not None:\n",
    "        year = year_slider.value\n",
    "        clear_output(True)\n",
    "        display(m)\n",
    "        display_data_for_country(kwargs['properties']['name'], year, show_graphs.value)\n",
    "\n",
    "geo.on_click(click_handle)\n",
    "m.add_layer(geo)\n",
    "display(m)\n",
    "\n",
    "\"\"\"\n",
    "clear_output(True)"
   ]
  },
  {
   "cell_type": "markdown",
   "metadata": {},
   "source": [
    "## Primerjava smrtnosti za Francijo in Anglijo leto 2019 in 2020"
   ]
  },
  {
   "cell_type": "markdown",
   "metadata": {},
   "source": [
    "## Primerjava rasti COVID okužb po državah"
   ]
  },
  {
   "cell_type": "code",
   "execution_count": null,
   "metadata": {},
   "outputs": [],
   "source": [
    "import sys\n",
    "import os\n",
    "sys.path.append(os.getcwd() + '/modules')\n",
    "import jakaRModule as jaka"
   ]
  },
  {
   "cell_type": "code",
   "execution_count": null,
   "metadata": {},
   "outputs": [],
   "source": [
    "# Read data for Covid-19 growth comparison\n",
    "(dataFrame,dateRange,countries) = jaka.readGrowthData()"
   ]
  },
  {
   "cell_type": "code",
   "execution_count": null,
   "metadata": {},
   "outputs": [],
   "source": [
    "# Create a dictionary, containing weekly statistics\n",
    "weeklyStatsDict = jaka.createWeeklyStatsDict(dataFrame,dateRange,countries)"
   ]
  },
  {
   "cell_type": "markdown",
   "metadata": {},
   "source": [
    "##### Opis podatkov\n",
    "\n",
    "V prejšnjem koraku ima vsaka država za vsak teden od začetka beleženja Covid-19 število okuženih in mrtvih. Če bi gručili po teh podatkih, bi populacija države igrala veliko vlogo. Ker pa tega nočemo (primerjamo le rast), se v naslednjem koraku za vsak teden izračuna razmerje naslednji/prejšnji teden. S tem dobimo za vsak teden nek koeficient, ki prikazuje rast števila okuženih oziroma mrtvih. Ko gručimo na ta način, populacija ne igra vloge."
   ]
  },
  {
   "cell_type": "code",
   "execution_count": null,
   "metadata": {},
   "outputs": [],
   "source": [
    "# Create a dictionary, that contains growth coefficients for every week in date range\n",
    "weeklyCoefficientsDict = jaka.createWeeklyCoefficientsDict(weeklyStatsDict)"
   ]
  },
  {
   "cell_type": "code",
   "execution_count": null,
   "metadata": {},
   "outputs": [],
   "source": [
    "# Create matrices for later use in model creation\n",
    "(caseMatrix, deathMatrix, labels) = jaka.createMatricesAndLabels(weeklyCoefficientsDict, 100)"
   ]
  },
  {
   "cell_type": "code",
   "execution_count": null,
   "metadata": {},
   "outputs": [],
   "source": [
    "caseLinkage = jaka.createLinkage(caseMatrix)\n",
    "deathLinkage = jaka.createLinkage(deathMatrix)"
   ]
  },
  {
   "cell_type": "code",
   "execution_count": null,
   "metadata": {},
   "outputs": [],
   "source": [
    "%matplotlib inline\n",
    "# jaka.drawDendrogram(caseLinkage, labels, title=\"Države, gručene po tedenskem koeficientu rasti okuženih\")"
   ]
  },
  {
   "cell_type": "markdown",
   "metadata": {},
   "source": [
    "Za prikaz podatkov smo izbrali dendrogram, saj po našem mnenju lepo grafično prikazuje rezultate. Na grafu vidimo, katere države so si podobne glede na to, kakšna je bila rast števila mrtvih za Covid-19."
   ]
  },
  {
   "cell_type": "code",
   "execution_count": null,
   "metadata": {},
   "outputs": [],
   "source": [
    "jaka.drawDendrogram(deathLinkage, labels, title=\"Države, gručene po tedenskem koeficientu rasti smrti\")"
   ]
  },
  {
   "cell_type": "markdown",
   "metadata": {},
   "source": [
    "## Gručenje držav glede na mesečno umrljivost"
   ]
  },
  {
   "cell_type": "code",
   "execution_count": null,
   "metadata": {},
   "outputs": [],
   "source": [
    "# Read total population data\n",
    "(dataFrame, countryList) = jaka.readTotalPopulationData()"
   ]
  },
  {
   "cell_type": "code",
   "execution_count": null,
   "metadata": {},
   "outputs": [],
   "source": [
    "# Year months for later use\n",
    "months = ['January','February','March','April','May','June','July','August','September','October','November','December']"
   ]
  },
  {
   "cell_type": "code",
   "execution_count": null,
   "metadata": {},
   "outputs": [],
   "source": [
    "# Read the dataframe which contains deaths per month for year 2015\n",
    "deathDataFrame = jaka.readDeathData(year=2015)"
   ]
  },
  {
   "cell_type": "markdown",
   "metadata": {},
   "source": [
    "##### Opis podatkov\n",
    "\n",
    "V naslednjem koraku pripravimo podatke za izdelavo modela. Podatki so v obliki slovarja, kjer so ključi države. Vsak ključ ima za vrednost polje, ki predstavlja umrljivost za vsak mesec v letu. Izbrali smo leto 2015."
   ]
  },
  {
   "cell_type": "code",
   "execution_count": null,
   "metadata": {},
   "outputs": [],
   "source": [
    "# Create a dictionary with country for key and array of deaths per each month per million eg. {\"Slovenia\": [2,3,5,2,4,2,4,5,3,2,4,5]}\n",
    "monthDeathDict = jaka.createMonthDeathDictionary(deathDataFrame,dataFrame,countryList,months)"
   ]
  },
  {
   "cell_type": "code",
   "execution_count": null,
   "metadata": {},
   "outputs": [],
   "source": [
    "# Creating matrix and labels\n",
    "(matrix, labels) = jaka.createMatrixAndLabels(monthDeathDict)"
   ]
  },
  {
   "cell_type": "code",
   "execution_count": null,
   "metadata": {},
   "outputs": [],
   "source": [
    "# Create a linkage\n",
    "mortalityLinkage = jaka.createLinkage(matrix)"
   ]
  },
  {
   "cell_type": "markdown",
   "metadata": {},
   "source": [
    "Graf prikazuje, katere države si si med sabo najbolj podobne po stopnji mesečne umrljivosti skozi leto 2015. Iz podatkov lahko vidimo, da imajo države s podobno geografsko pozicijo podobne stopnje smrtnosti. V glavnem je model razdelil države na 2 večji skupini. Kar opazimo je to, da je v zeleni več držav nižje razvitosti. (ne vse, ampak več kot v rdeči)"
   ]
  },
  {
   "cell_type": "code",
   "execution_count": null,
   "metadata": {},
   "outputs": [],
   "source": [
    "# Draw a dendrogram\n",
    "jaka.drawDendrogram(mortalityLinkage, labels, title=\"Države, gručene po mesečni umrljivosti leta 2015\")"
   ]
  },
  {
   "cell_type": "markdown",
   "metadata": {},
   "source": [
    "# Enej"
   ]
  },
  {
   "cell_type": "code",
<<<<<<< HEAD
   "execution_count": 1,
=======
   "execution_count": null,
>>>>>>> fce84faf0a438c63aef9a84ac3a93aa8692f6f21
   "metadata": {},
   "outputs": [],
   "source": [
    "import os\n",
<<<<<<< HEAD
    "import sys\n",
    "sys.path.append(os.getcwd() + '/modules')\n",
    "import enejBModule as enej"
=======
    "import json\n",
    "import numpy as np\n",
    "import math\n",
    "import matplotlib.pyplot as plt\n",
    "from sklearn.linear_model import LinearRegression"
   ]
  },
  {
   "cell_type": "code",
   "execution_count": null,
   "metadata": {},
   "outputs": [],
   "source": [
    "def read_population_by_sex():\n",
    "    rows_to_skip = [i for i in range(0, 16)]  \n",
    "    rows_to_skip.extend([i for i in range(17, 272)])   # odstranjevanje vrstic ki bi delale probleme\n",
    "    rows_to_skip.extend([i for i in range(362, 377)])\n",
    "    names  =[\"Region-Country\", \"Date\", \"0-4\", \"5-9\",  \"10-14\", \"15-19\", \"20-24\", \"25-29\", \n",
    "             \"30-34\", \"35-39\", \"40-44\", \"45-49\", \"50-54\", \"55-59\",  \"60-64\", \"65-69\", \"70-74\", \"75-79\",\n",
    "             \"80-84\", \"85-89\", \"90-94\", \"95-99\", \"100+\"]\n",
    "\n",
    "    main_set = pandas.read_excel('../podatki/POPULATION_BY_AGE_BOTH_SEXES.xlsx', \n",
    "                                 usecols=(2, 7, 8,9,10,11,12,13,14,15,16,17,18,19,20,21,22,23,24,25,26,27,28),\n",
    "                                    skiprows=rows_to_skip,\n",
    "                                    names=names)\n",
    "    main_set[\"population_sum\"] = np.NaN\n",
    "    main_set[\"avg_age\"] = np.NaN\n",
    "\n",
    "    for index, row in main_set.iterrows():\n",
    "        temp_sum = 0\n",
    "        for num_range, num in row[2:-2].iteritems():\n",
    "            temp_sum += num\n",
    "\n",
    "        main_set.loc[index,\"population_sum\"] = float(temp_sum)\n",
    "\n",
    "        pop_age = 0        # mogoče zamenji z mediano \n",
    "        age_range = 2\n",
    "        for num_range, num in row[2:-2].iteritems():\n",
    "            pop_age += (num / temp_sum) * age_range\n",
    "            age_range += 5\n",
    "        main_set.loc[index,\"avg_age\"] = float(pop_age)\n",
    "    return main_set"
   ]
  },
  {
   "cell_type": "code",
   "execution_count": null,
   "metadata": {},
   "outputs": [],
   "source": [
    "def priprava(avg_age_all_df,country):\n",
    "    #priprava podatkov za starost\n",
    "    avg_age_all_df = pop_by_sex.loc[:, ['Date','Region-Country', 'avg_age']] #avg_age_date_region-country\n",
    "    avg_age_df = avg_age_all_df.loc[avg_age_all_df['Region-Country'] == country]\n",
    "    avg_age_df_2020 = avg_age_df.loc[avg_age_df['Date'] == 2020]\n",
    "    avg_age_df_spain = avg_age_df_2020.loc[avg_age_df['Region-Country'] == country]\n",
    "\n",
    "    #priprava podatkov za corono\n",
    "    corona_smrti_koeficient = pandas.read_csv(\"../podatki/corona_latest.csv\")\n",
    "    corona_smrti_koeficient = corona_smrti_koeficient.loc[corona_smrti_koeficient['year'] == 2020]\n",
    "    corona_smrti_koeficient = corona_smrti_koeficient.loc[corona_smrti_koeficient['countriesAndTerritories'] == country]\n",
    "    corona_final1 = corona_smrti_koeficient.loc[:, ['deaths','popData2018']]\n",
    "    corona_final_koeficient = corona_final1\n",
    "    corona_final_koeficient['koeficient'] = ((corona_final_koeficient['deaths']*100)/corona_final_koeficient['popData2018']) *10000\n",
    "    smrti_koeficienti = corona_final_koeficient.loc[:, ['koeficient']]\n",
    "    smrti_koeficienti = smrti_koeficienti[smrti_koeficienti[\"koeficient\"]!=0] #razlicen od 0\n",
    "    smrti_koeficienti = smrti_koeficienti[smrti_koeficienti[\"koeficient\"]>1] #vecji od 1\n",
    "    smrti =smrti_koeficienti['koeficient'].mean()\n",
    "    smrti\n",
    "    smrt=[smrti]\n",
    "    skupenDF2=avg_age_df_spain\n",
    "    skupenDF2['koeficient']=smrt\n",
    "    skupenDF2\n",
    "    return skupenDF2"
   ]
  },
  {
   "cell_type": "code",
   "execution_count": null,
   "metadata": {},
   "outputs": [],
   "source": [
    "def iteracija_drzave(avg_age_all_df):\n",
    "    drzave_df = avg_age_all_df.loc[:, ['Region-Country']]\n",
    "    drzave_df = drzave_df['Region-Country'].unique()\n",
    "\n",
    "    df_countries = priprava(avg_age_all_df,drzave_df[0])\n",
    "    length = len(drzave_df) \n",
    "    i = 1\n",
    "    # Iterating using while loop \n",
    "    while i < length: \n",
    "        df_countries = df_countries.append(priprava(avg_age_all_df,drzave_df[i]))\n",
    "        i += 1\n",
    "\n",
    "    df_countries = df_countries.dropna()\n",
    "    return df_countries"
   ]
  },
  {
   "cell_type": "code",
   "execution_count": null,
   "metadata": {},
   "outputs": [],
   "source": [
    "def linearna(pop):\n",
    "    avg_age_all_df = pop.loc[:, ['Date','Region-Country', 'avg_age']]\n",
    "    df_countries = iteracija_drzave(avg_age_all_df)\n",
    "    X = df_countries.iloc[:, 2].values.reshape(-1, 1) # values converts it into a numpy array\n",
    "    Y = df_countries .iloc[:, 3].values.reshape(-1, 1) # -1 means that calculate the dimension of rows, but have 1 column\n",
    "    linear_regressor = LinearRegression()\n",
    "    linear_regressor.fit(X, Y)\n",
    "    Y_pred = linear_regressor.predict(X)\n",
    "    plt.scatter(X, Y)\n",
    "    plt.plot(X, Y_pred, color='red')\n",
    "    plt.xlabel(\"Starost\")\n",
    "    plt.ylabel(\"Koeficient smrti\")"
>>>>>>> fce84faf0a438c63aef9a84ac3a93aa8692f6f21
   ]
  },
  {
   "cell_type": "code",
<<<<<<< HEAD
   "execution_count": 2,
=======
   "execution_count": null,
>>>>>>> fce84faf0a438c63aef9a84ac3a93aa8692f6f21
   "metadata": {},
   "outputs": [],
   "source": [
    "# ta spremenljivka je že definirana od nekoga prej\n",
    "# pop_by_sex = read_population_by_sex()\n",
    "pop_by_sex = enej.read_population_by_sex() \n",
    "enej.linearna(pop_by_sex)"
   ]
  },
  {
   "cell_type": "code",
   "execution_count": null,
   "metadata": {},
   "outputs": [],
   "source": []
  }
 ],
 "metadata": {
  "kernelspec": {
   "display_name": "Python 3",
   "language": "python",
   "name": "python3"
  },
  "language_info": {
   "codemirror_mode": {
    "name": "ipython",
    "version": 3
   },
   "file_extension": ".py",
   "mimetype": "text/x-python",
   "name": "python",
   "nbconvert_exporter": "python",
   "pygments_lexer": "ipython3",
   "version": "3.7.7"
  }
 },
 "nbformat": 4,
 "nbformat_minor": 4
}
