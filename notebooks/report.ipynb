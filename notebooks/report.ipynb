{
 "cells": [
  {
   "attachments": {},
   "cell_type": "markdown",
   "metadata": {},
   "source": [
    "# Primerjava Covid 19 z gripo, vpliv ukrepov, vpliv povprečne starosti populacije države na smrtnost !"
   ]
  },
  {
   "cell_type": "code",
   "execution_count": 1,
   "metadata": {},
   "outputs": [],
   "source": [
    "import pandas as pandas\n",
    "import os\n",
    "import sys\n",
    "import json\n",
    "import numpy as np\n",
    "import math\n",
    "import random\n",
    "import matplotlib.pyplot as plt\n",
    "from IPython.display import clear_output\n",
    "from ipywidgets      import Dropdown\n",
    "from bqplot          import Lines, Figure, LinearScale, DateScale, Axis\n",
    "from ipyleaflet      import Map, GeoJSON, WidgetControl\n",
    "from ipywidgets import IntSlider, ColorPicker, ToggleButton\n",
    "import numpy as np\n",
    "from collections import defaultdict\n",
    "from scipy.stats import multivariate_normal as mvn\n",
    "%matplotlib inline\n",
    "sys.path.append(os.getcwd() + '/modules')\n",
    "from zansModule     import read_population_by_sex, get_sum_population_array, my_round, get_age_distribution_array\n",
    "from zansModule     import draw_bar_chart_distribution, draw_bar_chart_mortality, death_count_country_year, month_deaths\n",
    "\n",
    "from enejBModule    import test_enej\n",
    "from jakaRModule    import test_jaka\n",
    "from nikolajPModule import test_nikolaj\n",
    "from rokSModule     import test_rok\n",
    "\n",
    "# reading data from files\n",
    "with open('../podatki/countries.geo.json') as f:\n",
    "    countries = json.load(f)\n",
    "pop_by_sex = read_population_by_sex()  "
   ]
  },
  {
   "cell_type": "code",
   "execution_count": 14,
   "metadata": {},
   "outputs": [],
   "source": [
    "def display_data_for_country(country_name, year, show_bool):\n",
    "    print(\"Drzava: \" + country_name + \"\\nLeto: \" + str(year))\n",
    "    pop_data_set = get_sum_population_array(pop_by_sex, country_name)\n",
    "    rounded_year = my_round(year)\n",
    "    \n",
    "    avg_age = float(pop_by_sex[(pop_by_sex['Region-Country'] == country_name) & (pop_by_sex[\"Date\"] == rounded_year)][\"avg_age\"])\n",
    "    this_year_pop = [i for i in pop_data_set if i[0] == rounded_year]\n",
    "    avg_deaths = month_deaths(death_count_country_year(country_name, year))\n",
    "    print(avg_deaths)\n",
    "    if type(avg_deaths[0]) is float:\n",
    "        avg_deaths[0] = int(avg_deaths[0])\n",
    "        avg_deaths[1] = int(avg_deaths[1])\n",
    "    \n",
    "    print(\"Populacija v tej državi leta {} je {:.2f} tisoč\".format(rounded_year, this_year_pop[0][1]))\n",
    "    print(\"Povprečna starost prebivalca v tej državi leta {} je bila {:.1f}\".format(rounded_year, avg_age))\n",
    "    print(\"V tej državi je vsak mesec leta {} umrlo povprečno {} ljudi. V celem letu pa {} ljudi\"\n",
    "          .format(year, str(avg_deaths[0]), str(avg_deaths[1])))\n",
    "    \n",
    "    if show_bool:\n",
    "        draw_bar_chart_distribution(get_age_distribution_array(pop_by_sex, country_name, rounded_year), country_name)\n",
    "        draw_bar_chart_mortality(year, year-1, country_name)"
   ]
  },
  {
   "cell_type": "markdown",
   "metadata": {},
   "source": [
    "## Interaktivni zemljevid, ki izpiše št. prebivalcev, povprečno starost prebivalcev in št. ljudi ki je v tej državi umrlo v danem letu"
   ]
  },
  {
   "cell_type": "code",
   "execution_count": 15,
   "metadata": {},
   "outputs": [
    {
     "data": {
      "application/vnd.jupyter.widget-view+json": {
       "model_id": "48c2c66ad2a34f469b44966c1cb1bb60",
       "version_major": 2,
       "version_minor": 0
      },
      "text/plain": [
       "Map(center=[0.0, 0.0], controls=(ZoomControl(options=['position', 'zoom_in_text', 'zoom_in_title', 'zoom_out_t…"
      ]
     },
     "metadata": {},
     "output_type": "display_data"
    },
    {
     "name": "stdout",
     "output_type": "stream",
     "text": [
      "Drzava: Brazil\n",
      "Leto: 2018\n",
      "Try another year data missing for this one !{}\n",
      "(No data)\n",
      "Populacija v tej državi leta 2020 je 212559.41 tisoč\n",
      "Povprečna starost prebivalca v tej državi leta 2020 je bila 34.5\n",
      "V tej državi je vsak mesec leta 2018 umrlo povprečno ( ljudi. V celem letu pa N ljudi\n"
     ]
    }
   ],
   "source": [
    "m = Map(zoom=3)\n",
    "\n",
    "geo = GeoJSON(data=countries, style={'fillColor': 'white', 'weight': 0.5}, hover_style={'fillColor': '#1f77b4'}, name='Countries')\n",
    "\n",
    "year_slider = IntSlider(description='Year:', min=1980, max=2020, value=2018)\n",
    "slider_control = WidgetControl(widget=year_slider, position='topright')\n",
    "m.add_control(slider_control)\n",
    "\n",
    "show_graphs = ToggleButton(description='Show Graph')\n",
    "button_control = WidgetControl(widget=show_graphs, position='topright')\n",
    "m.add_control(button_control)\n",
    "\n",
    "def click_handle(event=None, feature=None, **kwargs): # must be none if nothing is given\n",
    "    if feature is not None:\n",
    "        year = year_slider.value\n",
    "        clear_output(True)\n",
    "        display(m)\n",
    "        display_data_for_country(kwargs['properties']['name'], year, show_graphs.value)\n",
    "\n",
    "geo.on_click(click_handle)\n",
    "m.add_layer(geo)\n",
    "display(m)"
   ]
  },
  {
   "cell_type": "code",
   "execution_count": null,
   "metadata": {},
   "outputs": [],
   "source": []
  },
  {
   "cell_type": "markdown",
   "metadata": {},
   "source": [
    "## Primerjava smrtnosti za Francijo in Anglijo leto 2019 in 2020"
   ]
  },
  {
   "cell_type": "code",
   "execution_count": null,
   "metadata": {},
   "outputs": [],
   "source": []
  },
  {
   "cell_type": "code",
   "execution_count": null,
   "metadata": {},
   "outputs": [],
   "source": []
  }
 ],
 "metadata": {
  "kernelspec": {
   "display_name": "Python 3",
   "language": "python",
   "name": "python3"
  },
  "language_info": {
   "codemirror_mode": {
    "name": "ipython",
    "version": 3
   },
   "file_extension": ".py",
   "mimetype": "text/x-python",
   "name": "python",
   "nbconvert_exporter": "python",
   "pygments_lexer": "ipython3",
   "version": "3.7.7"
  }
 },
 "nbformat": 4,
 "nbformat_minor": 4
}
