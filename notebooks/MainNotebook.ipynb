{
 "cells": [
  {
   "cell_type": "markdown",
   "metadata": {},
   "source": [
    "## Here is where the magic happens"
   ]
  },
  {
   "cell_type": "code",
   "execution_count": 4,
   "metadata": {},
   "outputs": [
    {
     "data": {
      "application/vnd.jupyter.widget-view+json": {
       "model_id": "c4aa164af7694010b55a8a526afd584e",
       "version_major": 2,
       "version_minor": 0
      },
      "text/plain": [
       "Map(center=[35.517919198514186, 36.49219393730164], controls=(ZoomControl(options=['position', 'zoom_in_text',…"
      ]
     },
     "metadata": {},
     "output_type": "display_data"
    },
    {
     "name": "stdout",
     "output_type": "stream",
     "text": [
      "Leto 2015\n",
      "Drzava: Libya\n"
     ]
    }
   ],
   "source": [
    "import pandas as pandas\n",
    "import json\n",
    "import numpy as np\n",
    "import matplotlib.pyplot as plt\n",
    "from IPython.display import clear_output\n",
    "from bqplot          import Lines, Figure, LinearScale, DateScale, Axis\n",
    "from ipyleaflet      import Map, GeoJSON, WidgetControl\n",
    "from ipywidgets import IntSlider, ColorPicker, jslink\n",
    "\n",
    "with open('../podatki/countries.geo.json') as f:\n",
    "    countries = json.load(f)\n",
    "\n",
    "m = Map(zoom=3)\n",
    "\n",
    "geo = GeoJSON(data=countries, style={'fillColor': 'white', 'weight': 0.5}, hover_style={'fillColor': '#1f77b4'}, name='Countries')\n",
    "year_slider = IntSlider(description='Year:', min=2015, max=2020, value=2018)\n",
    "widget_control1 = WidgetControl(widget=year_slider, position='topright')\n",
    "m.add_control(widget_control1)\n",
    "\n",
    "\n",
    "\n",
    "def click_handle(event=None, feature=None, **kwargs): # must be none if none is given\n",
    "    if feature is not None:\n",
    "        year = year_slider.value\n",
    "        clear_output(True)\n",
    "        display(m)\n",
    "        print(\"Leto \" + str(year) + \"\\nDrzava: \" + kwargs['properties']['name'])\n",
    "        # country_name = kwargs['properties']['name']\n",
    "        # print(\"Selected country: \" + country_name)\n",
    "        #display_data_for_country(country_name, 2017)\n",
    "\n",
    "geo.on_click(click_handle)\n",
    "m.add_layer(geo)\n",
    "display(m)"
   ]
  },
  {
   "cell_type": "code",
   "execution_count": null,
   "metadata": {},
   "outputs": [],
   "source": []
  }
 ],
 "metadata": {
  "kernelspec": {
   "display_name": "Python 3",
   "language": "python",
   "name": "python3"
  },
  "language_info": {
   "codemirror_mode": {
    "name": "ipython",
    "version": 3
   },
   "file_extension": ".py",
   "mimetype": "text/x-python",
   "name": "python",
   "nbconvert_exporter": "python",
   "pygments_lexer": "ipython3",
   "version": "3.7.7"
  }
 },
 "nbformat": 4,
 "nbformat_minor": 4
}
