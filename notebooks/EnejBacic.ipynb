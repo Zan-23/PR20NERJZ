{
 "cells": [
  {
   "cell_type": "markdown",
   "metadata": {},
   "source": [
    "Moj notebook"
   ]
  },
  {
   "cell_type": "markdown",
   "metadata": {},
   "source": [
    "## Regresija"
   ]
  },
  {
   "cell_type": "code",
   "execution_count": 7,
   "metadata": {},
   "outputs": [],
   "source": [
    "import pandas as pandas\n",
    "import os\n",
    "import json\n",
    "import numpy as np\n",
    "import math\n",
    "import matplotlib.pyplot as plt\n",
    "from sklearn.linear_model import LinearRegression\n",
    "\n",
    "\n",
    "def read_population_by_sex():\n",
    "    rows_to_skip = [i for i in range(0, 16)]  \n",
    "    rows_to_skip.extend([i for i in range(17, 272)])   # odstranjevanje vrstic ki bi delale probleme\n",
    "    rows_to_skip.extend([i for i in range(362, 377)])\n",
    "    names  =[\"Region-Country\", \"Date\", \"0-4\", \"5-9\",  \"10-14\", \"15-19\", \"20-24\", \"25-29\", \n",
    "             \"30-34\", \"35-39\", \"40-44\", \"45-49\", \"50-54\", \"55-59\",  \"60-64\", \"65-69\", \"70-74\", \"75-79\",\n",
    "             \"80-84\", \"85-89\", \"90-94\", \"95-99\", \"100+\"]\n",
    "\n",
    "    main_set = pandas.read_excel('podatki/POPULATION_BY_AGE_BOTH_SEXES.xlsx', \n",
    "                                 usecols=(2, 7, 8,9,10,11,12,13,14,15,16,17,18,19,20,21,22,23,24,25,26,27,28),\n",
    "                                    skiprows=rows_to_skip,\n",
    "                                    names=names)\n",
    "    main_set[\"population_sum\"] = np.NaN\n",
    "    main_set[\"avg_age\"] = np.NaN\n",
    "\n",
    "    for index, row in main_set.iterrows():\n",
    "        temp_sum = 0\n",
    "        for num_range, num in row[2:-2].iteritems():\n",
    "            temp_sum += num\n",
    "\n",
    "        main_set.loc[index,\"population_sum\"] = float(temp_sum)\n",
    "\n",
    "        pop_age = 0        # mogoče zamenji z mediano \n",
    "        age_range = 2\n",
    "        for num_range, num in row[2:-2].iteritems():\n",
    "            pop_age += (num / temp_sum) * age_range\n",
    "            age_range += 5\n",
    "        main_set.loc[index,\"avg_age\"] = float(pop_age)\n",
    "    return main_set\n",
    "\n",
    "\n",
    "pop_by_sex = read_population_by_sex() "
   ]
  },
  {
   "cell_type": "code",
   "execution_count": 8,
   "metadata": {},
   "outputs": [],
   "source": []
  },
  {
   "cell_type": "code",
   "execution_count": 21,
   "metadata": {},
   "outputs": [
    {
     "data": {
      "image/png": "[encoded data removed]",
      "text/plain": [
       "<Figure size 432x288 with 1 Axes>"
      ]
     },
     "metadata": {
      "needs_background": "light"
     },
     "output_type": "display_data"
    }
   ],
   "source": [
    "def priprava(avg_age_all_df,country):\n",
    "    #priprava podatkov za starost\n",
    "    avg_age_all_df = pop_by_sex.loc[:, ['Date','Region-Country', 'avg_age']] #avg_age_date_region-country\n",
    "    avg_age_df = avg_age_all_df.loc[avg_age_all_df['Region-Country'] == country]\n",
    "    avg_age_df_2020 = avg_age_df.loc[avg_age_df['Date'] == 2020]\n",
    "    avg_age_df_spain = avg_age_df_2020.loc[avg_age_df['Region-Country'] == country]\n",
    "\n",
    "    #priprava podatkov za corono\n",
    "    corona_smrti_koeficient = pandas.read_csv(r\"podatki\\corona_latest.csv\")\n",
    "    corona_smrti_koeficient = corona_smrti_koeficient.loc[corona_smrti_koeficient['year'] == 2020]\n",
    "    corona_smrti_koeficient = corona_smrti_koeficient.loc[corona_smrti_koeficient['countriesAndTerritories'] == country]\n",
    "    corona_final1 = corona_smrti_koeficient.loc[:, ['deaths','popData2018']]\n",
    "    corona_final_koeficient = corona_final1\n",
    "    corona_final_koeficient['koeficient'] = ((corona_final_koeficient['deaths']*100)/corona_final_koeficient['popData2018']) *10000\n",
    "    smrti_koeficienti = corona_final_koeficient.loc[:, ['koeficient']]\n",
    "    smrti_koeficienti = smrti_koeficienti[smrti_koeficienti[\"koeficient\"]!=0] #razlicen od 0\n",
    "    smrti_koeficienti = smrti_koeficienti[smrti_koeficienti[\"koeficient\"]>1] #vecji od 1\n",
    "    smrti =smrti_koeficienti['koeficient'].mean()\n",
    "    smrti\n",
    "    smrt=[smrti]\n",
    "    skupenDF2=avg_age_df_spain\n",
    "    skupenDF2['koeficient']=smrt\n",
    "    skupenDF2\n",
    "    return skupenDF2\n",
    "\n",
    "def iteracija_drzave(avg_age_all_df):\n",
    "    drzave_df = avg_age_all_df.loc[:, ['Region-Country']]\n",
    "    drzave_df = drzave_df['Region-Country'].unique()\n",
    "\n",
    "    df_countries = priprava(avg_age_all_df,drzave_df[0])\n",
    "    length = len(drzave_df) \n",
    "    i = 1\n",
    "    # Iterating using while loop \n",
    "    while i < length: \n",
    "        df_countries = df_countries.append(priprava(avg_age_all_df,drzave_df[i]))\n",
    "        i += 1\n",
    "\n",
    "    df_countries = df_countries.dropna()\n",
    "    return df_countries\n",
    "    #df_countries = df_countries[df_countries[\"koeficient\"]!=0]\n",
    "def linearna():\n",
    "    avg_age_all_df = pop_by_sex.loc[:, ['Date','Region-Country', 'avg_age']]\n",
    "    df_countries = iteracija_drzave(avg_age_all_df)\n",
    "    X = df_countries.iloc[:, 2].values.reshape(-1, 1) # values converts it into a numpy array\n",
    "    Y = df_countries .iloc[:, 3].values.reshape(-1, 1) # -1 means that calculate the dimension of rows, but have 1 column\n",
    "    linear_regressor = LinearRegression()\n",
    "    linear_regressor.fit(X, Y)\n",
    "    Y_pred = linear_regressor.predict(X)\n",
    "    plt.scatter(X, Y)\n",
    "    plt.plot(X, Y_pred, color='red')\n",
    "    plt.xlabel(\"Starost\")\n",
    "    plt.ylabel(\"Koeficient smrti\")\n",
    "    plt.show()\n",
    "\n",
    "linearna()"
   ]
  },
  {
   "cell_type": "code",
   "execution_count": null,
   "metadata": {},
   "outputs": [],
   "source": []
  },
  {
   "cell_type": "code",
   "execution_count": null,
   "metadata": {},
   "outputs": [],
   "source": []
  }
 ],
 "metadata": {
  "kernelspec": {
   "display_name": "Python 3",
   "language": "python",
   "name": "python3"
  },
  "language_info": {
   "codemirror_mode": {
    "name": "ipython",
    "version": 3
   },
   "file_extension": ".py",
   "mimetype": "text/x-python",
   "name": "python",
   "nbconvert_exporter": "python",
   "pygments_lexer": "ipython3",
   "version": "3.7.4"
  }
 },
 "nbformat": 4,
 "nbformat_minor": 4
}
